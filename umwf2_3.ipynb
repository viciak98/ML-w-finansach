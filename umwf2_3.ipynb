{
  "nbformat": 4,
  "nbformat_minor": 0,
  "metadata": {
    "colab": {
      "name": "umwf2-3.ipynb",
      "provenance": [],
      "collapsed_sections": [],
      "include_colab_link": true
    },
    "kernelspec": {
      "name": "python3",
      "display_name": "Python 3"
    },
    "language_info": {
      "name": "python"
    }
  },
  "cells": [
    {
      "cell_type": "markdown",
      "metadata": {
        "id": "view-in-github",
        "colab_type": "text"
      },
      "source": [
        "<a href=\"https://colab.research.google.com/github/viciak98/ML-w-finansach/blob/etap4/umwf2_3.ipynb\" target=\"_parent\"><img src=\"https://colab.research.google.com/assets/colab-badge.svg\" alt=\"Open In Colab\"/></a>"
      ]
    },
    {
      "cell_type": "code",
      "execution_count": 3,
      "metadata": {
        "colab": {
          "base_uri": "https://localhost:8080/",
          "height": 1000
        },
        "id": "nZa8gX7-0IaI",
        "outputId": "755a4d8b-6eca-4b80-8d9a-bbe1e2f07b8a"
      },
      "outputs": [
        {
          "output_type": "stream",
          "name": "stdout",
          "text": [
            "             time   code   return2  \\\n",
            "0      2004-02-11    GGG  0.055986   \n",
            "1      2004-02-11    CWT  0.080367   \n",
            "2      2004-02-11    BLL  0.015843   \n",
            "3      2004-02-11    APA  0.052312   \n",
            "4      2004-02-11   MATX  0.077529   \n",
            "...           ...    ...       ...   \n",
            "29649  2022-02-09   SLGN -0.024445   \n",
            "29650  2022-02-09    PEP -0.020117   \n",
            "29651  2022-02-09    GEF -0.037857   \n",
            "29652  2022-02-09    DPZ -0.015887   \n",
            "29653  2022-02-09  LIFZF  0.086517   \n",
            "\n",
            "                                                       0 number  \\\n",
            "0      10:01:54.481 77425 [77425-thread-2] INFO  a.s....    GGG   \n",
            "1      10:01:54.481 77425 [77425-thread-2] INFO  a.s....    CWT   \n",
            "2      10:01:54.481 77425 [77425-thread-2] INFO  a.s....    BLL   \n",
            "3      10:01:54.481 77425 [77425-thread-2] INFO  a.s....    APA   \n",
            "4      10:01:54.481 77425 [77425-thread-2] INFO  a.s....   MATX   \n",
            "...                                                  ...    ...   \n",
            "29649  10:27:03.049 77425 [77425-thread-2] INFO  a.s....   SLGN   \n",
            "29650  10:27:03.049 77425 [77425-thread-2] INFO  a.s....    PEP   \n",
            "29651  10:27:03.049 77425 [77425-thread-2] INFO  a.s....    GEF   \n",
            "29652  10:27:03.049 77425 [77425-thread-2] INFO  a.s....    DPZ   \n",
            "29653  10:27:03.049 77425 [77425-thread-2] INFO  a.s....  LIFZF   \n",
            "\n",
            "                         type       mer     value  \n",
            "0      Producer Manufacturing  H5490W-R  0.952753  \n",
            "1                   Utilities  GSWXLY-R  0.934181  \n",
            "2          Process Industries  VFT0VQ-R  0.922862  \n",
            "3             Energy Minerals  DMX4QY-R  0.912117  \n",
            "4              Transportation  QVP8YX-R  0.866946  \n",
            "...                       ...       ...       ...  \n",
            "29649      Process Industries  MNWT3V-R  0.709506  \n",
            "29650   Consumer Non-Durables  PPCTFP-R  0.701507  \n",
            "29651      Process Industries  MPX0N4-R  0.697954  \n",
            "29652       Consumer Services  F05QG0-R  0.697741  \n",
            "29653     Non-Energy Minerals  Q404Y1-R  0.695644  \n",
            "\n",
            "[29654 rows x 8 columns]\n"
          ]
        },
        {
          "output_type": "display_data",
          "data": {
            "text/plain": [
              "<Figure size 432x288 with 2 Axes>"
            ],
            "image/png": "[encoded data removed]"
          },
          "metadata": {
            "needs_background": "light"
          }
        },
        {
          "output_type": "display_data",
          "data": {
            "text/plain": [
              "<Figure size 432x288 with 1 Axes>"
            ],
            "image/png": "[encoded data removed]"
          },
          "metadata": {
            "needs_background": "light"
          }
        },
        {
          "output_type": "stream",
          "name": "stdout",
          "text": [
            "Coefficients: [[-0.09460618]]\n",
            "Intercept: [0.73195119]\n"
          ]
        }
      ],
      "source": [
        "import pandas as pd\n",
        "\n",
        "df = pd.read_csv('CONVICTIONLISTTOPN_BSLD-408.csv',header=None)\n",
        "df.rename(columns={1: \"time\", 2: \"number\", 3: \"code\", 4: \"type\", 5: \"mer\", 6: \"value\"}, inplace=True)\n",
        "\n",
        "data = pd.read_csv('zwroty.csv')\n",
        "data.columns = [\"time\", \"code\", \"return2\"]\n",
        "sl_score = {}\n",
        "\n",
        "for lab, row in df.iterrows():\n",
        "    sl_score[row[\"time\"]] = {}\n",
        "    if \".\" in row[\"code\"]:\n",
        "      znak_z_x = row[\"code\"]\n",
        "      indeks_znaku = znak_z_x.index(\".\")\n",
        "      row[\"code\"] = znak_z_x[0:indeks_znaku]\n",
        "\n",
        "    sl_score[row[\"time\"]][row[\"code\"]] = row[\"value\"]\n",
        "\n",
        "df2 = pd.merge(data, df, on=['time','code'])\n",
        "\n",
        "print(df2)\n",
        "\n",
        "import matplotlib.pyplot as plt\n",
        "\n",
        "df2.head()\n",
        "\n",
        "df.describe()\n",
        "\n",
        "dataset = df2[['value','number','type','return2']]\n",
        "dataset.head(10)\n",
        "\n",
        "x = dataset[['value','return2']]\n",
        "x.hist()\n",
        "\n",
        "plt.scatter(dataset['return2'], dataset['value'],  color='blue')\n",
        "plt.xlabel(\"return2\")\n",
        "plt.ylabel(\"value\")\n",
        "plt.show()\n",
        "\n",
        "from sklearn.model_selection import train_test_split\n",
        "\n",
        "X = df2[['return2']].values\n",
        "y = df2[['value']].values\n",
        "\n",
        "train_x, test_x, train_y, test_y = train_test_split(X, y, test_size=0.3, random_state=123)\n",
        "split = int(0.8 * len(df2)) #800\n",
        "split3 = int(0.9 * len(df2)) #800\n",
        "split1 = int(0.1 * len(df2))\n",
        "split2 = int(0.5 * len(df2))\n",
        "split4 = int(0.6 * len(df2))\n",
        "\n",
        "\n",
        "test1 = df[:split1]\n",
        "test2 = df[split2:split4]\n",
        "test3 = df[:split3]\n",
        "\n",
        "train = dataset[:split] # 1-799\n",
        "test = dataset[split:]\n",
        "\n",
        "plt.scatter(train.return2, train.value,  color='green')\n",
        "plt.xlabel(\"return2\")\n",
        "plt.ylabel(\"value\")\n",
        "plt.show()\n",
        "\n",
        "from sklearn import linear_model\n",
        "\n",
        "regr = linear_model.LinearRegression()\n",
        "regr.fit (train_x, train_y)\n",
        "\n",
        "# The coefficients of the model\n",
        "print (f'Coefficients: {regr.coef_}')\n",
        "print (f'Intercept: {regr.intercept_}')\n",
        "\n",
        "output = regr.predict(test_x)"
      ]
    },
    {
      "cell_type": "code",
      "source": [
        "import numpy as np\n",
        "from sklearn.metrics import r2_score\n",
        "from sklearn.utils.validation import column_or_1d"
      ],
      "metadata": {
        "id": "pxSn3ZYw8FK4"
      },
      "execution_count": 4,
      "outputs": []
    },
    {
      "cell_type": "code",
      "source": [
        "from sklearn.metrics import accuracy_score\n",
        "\n",
        "print(\"Mean absolute error: %.2f\" % np.mean(np.absolute(output - test_y)))\n",
        "print(\"Residual sum of squares (MSE): %.2f\" % np.mean((output - test_y) ** 2))\n",
        "print(\"R2-score: %.2f\" % r2_score(test_y , output) )\n",
        "print(f\"Accuracy = {regr.score(test_y, output)}\")\n"
      ],
      "metadata": {
        "colab": {
          "base_uri": "https://localhost:8080/"
        },
        "id": "y8U_3jFv6zFi",
        "outputId": "f69bc330-1858-43e4-bd97-84489206f6e8"
      },
      "execution_count": 5,
      "outputs": [
        {
          "output_type": "stream",
          "name": "stdout",
          "text": [
            "Mean absolute error: 0.09\n",
            "Residual sum of squares (MSE): 0.01\n",
            "R2-score: 0.00\n",
            "Accuracy = -273.7438800795242\n"
          ]
        }
      ]
    },
    {
      "cell_type": "code",
      "source": [
        "from sklearn.pipeline import make_pipeline\n",
        "from sklearn.preprocessing import StandardScaler\n",
        "from sklearn.svm import SVC\n",
        "from sklearn.svm import SVR\n",
        "from sklearn.preprocessing import MinMaxScaler"
      ],
      "metadata": {
        "id": "YL3Qa3CE5DMR"
      },
      "execution_count": 6,
      "outputs": []
    },
    {
      "cell_type": "code",
      "source": [
        "from sklearn.preprocessing import StandardScaler\n",
        "regr1 = make_pipeline(StandardScaler(), SVR(C=1, epsilon=0.1,gamma=\"scale\",kernel = \"rbf\"))\n",
        "regr1.fit(train_x, train_y.ravel())"
      ],
      "metadata": {
        "colab": {
          "base_uri": "https://localhost:8080/"
        },
        "id": "hVXY60UxIjpl",
        "outputId": "28221ba5-1b0e-42a5-d78d-2b0e308138d8"
      },
      "execution_count": 7,
      "outputs": [
        {
          "output_type": "execute_result",
          "data": {
            "text/plain": [
              "Pipeline(steps=[('standardscaler', StandardScaler()), ('svr', SVR(C=1))])"
            ]
          },
          "metadata": {},
          "execution_count": 7
        }
      ]
    },
    {
      "cell_type": "code",
      "source": [
        "y_pred = regr1.predict(test_x)\n",
        "print(y_pred)"
      ],
      "metadata": {
        "colab": {
          "base_uri": "https://localhost:8080/"
        },
        "id": "l4u_mEa8JXUL",
        "outputId": "d608da2d-334b-4ad7-c2f9-0cdb6fffe93c"
      },
      "execution_count": 8,
      "outputs": [
        {
          "output_type": "stream",
          "name": "stdout",
          "text": [
            "[0.743096   0.73872923 0.72645768 ... 0.72959403 0.67699698 0.73792036]\n"
          ]
        }
      ]
    },
    {
      "cell_type": "code",
      "source": [
        "print(\"Mean absolute error: %.2f\" % np.mean(np.absolute(y_pred - test_y)))\n",
        "print(\"Residual sum of squares (MSE): %.2f\" % np.mean((y_pred - test_y) ** 2))\n",
        "print(\"R2-score: %.2f\" % r2_score(test_y , y_pred) )\n",
        "print(f\"Accuracy = {regr1.score(test_y,y_pred)}\")\n"
      ],
      "metadata": {
        "colab": {
          "base_uri": "https://localhost:8080/"
        },
        "id": "sQmn_kcs1wTr",
        "outputId": "e3a7ee92-7e77-4616-9994-03b8a6264fdb"
      },
      "execution_count": 9,
      "outputs": [
        {
          "output_type": "stream",
          "name": "stdout",
          "text": [
            "Mean absolute error: 0.09\n",
            "Residual sum of squares (MSE): 0.01\n",
            "R2-score: 0.03\n",
            "Accuracy = -24.230060205710895\n"
          ]
        }
      ]
    },
    {
      "cell_type": "code",
      "source": [
        "import pandas as pd\n",
        "import time\n",
        "\n",
        "from xgboost import XGBClassifier\n",
        "\n",
        "from sklearn.metrics import accuracy_score\n",
        "from sklearn.model_selection import train_test_split\n",
        "from sklearn.metrics import confusion_matrix\n",
        "from sklearn.model_selection import RepeatedStratifiedKFold\n",
        "from sklearn.model_selection import cross_val_score\n",
        "from imblearn.under_sampling import RandomUnderSampler\n",
        "from imblearn.over_sampling import SMOTE\n",
        "from imblearn.pipeline import Pipeline"
      ],
      "metadata": {
        "id": "Ik2XdIdqgKfH"
      },
      "execution_count": 21,
      "outputs": []
    },
    {
      "cell_type": "code",
      "source": [
        "model = XGBClassifier(use_label_encoder=False)\n",
        "start_time = time.time()\n",
        "model.fit(train_x, train_y.ravel())\n",
        "print(\"--- %s seconds ---\" % (time.time() - start_time))\n",
        "predictions = model.predict(test_x)\n",
        "score = model.score(test_x, test_y)\n",
        "print(score)\n",
        "print(confusion_matrix(test_y, predictions))"
      ],
      "metadata": {
        "id": "JyKGVJBRnZNt"
      },
      "execution_count": null,
      "outputs": []
    },
    {
      "cell_type": "code",
      "source": [
        "from sklearn.cluster import KMeans\n",
        "wcss = []\n",
        "for i in range (1, 11):\n",
        "  kmeans = KMeans(n_clusters = i, init = \"k-means++\")\n",
        "  kmeans.fit(test1)\n",
        "  wcss.append(kmeans.inertia_)\n",
        "\n"
      ],
      "metadata": {
        "id": "M2hfJhl4nZYX"
      },
      "execution_count": null,
      "outputs": []
    },
    {
      "cell_type": "code",
      "source": [
        "wcss"
      ],
      "metadata": {
        "id": "juvGRI6dnZeK"
      },
      "execution_count": null,
      "outputs": []
    },
    {
      "cell_type": "code",
      "source": [
        "plt.plot(range(1,11), wcss)"
      ],
      "metadata": {
        "id": "326fWmUY1i4X"
      },
      "execution_count": null,
      "outputs": []
    },
    {
      "cell_type": "code",
      "source": [
        "kmeans = KMeans(n_clusters = 5, init = \"k-means++\")\n",
        "y_kmeans = kmeans.fit_predict(test1)"
      ],
      "metadata": {
        "id": "OYoI_34T1qke"
      },
      "execution_count": null,
      "outputs": []
    },
    {
      "cell_type": "code",
      "source": [
        "y_kmeans"
      ],
      "metadata": {
        "id": "ryccSajp2Aay"
      },
      "execution_count": null,
      "outputs": []
    }
  ]
}