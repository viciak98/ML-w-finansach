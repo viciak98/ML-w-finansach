{
  "nbformat": 4,
  "nbformat_minor": 0,
  "metadata": {
    "colab": {
      "name": "umwf2-3.ipynb",
      "provenance": [],
      "collapsed_sections": [],
      "include_colab_link": true
    },
    "kernelspec": {
      "name": "python3",
      "display_name": "Python 3"
    },
    "language_info": {
      "name": "python"
    }
  },
  "cells": [
    {
      "cell_type": "markdown",
      "metadata": {
        "id": "view-in-github",
        "colab_type": "text"
      },
      "source": [
        "<a href=\"https://colab.research.google.com/github/viciak98/ML-w-finansach/blob/main/umwf2_3.ipynb\" target=\"_parent\"><img src=\"https://colab.research.google.com/assets/colab-badge.svg\" alt=\"Open In Colab\"/></a>"
      ]
    },
    {
      "cell_type": "code",
      "execution_count": 1,
      "metadata": {
        "colab": {
          "base_uri": "https://localhost:8080/",
          "height": 1000
        },
        "id": "nZa8gX7-0IaI",
        "outputId": "5454f6cb-3e3c-423b-e40d-aabc84ec9a2f"
      },
      "outputs": [
        {
          "output_type": "stream",
          "name": "stdout",
          "text": [
            "             time   code   return2  \\\n",
            "0      2004-02-11    GGG  0.055986   \n",
            "1      2004-02-11    CWT  0.080367   \n",
            "2      2004-02-11    BLL  0.015843   \n",
            "3      2004-02-11    APA  0.052312   \n",
            "4      2004-02-11   MATX  0.077529   \n",
            "...           ...    ...       ...   \n",
            "29649  2022-02-09   SLGN -0.024445   \n",
            "29650  2022-02-09    PEP -0.020117   \n",
            "29651  2022-02-09    GEF -0.037857   \n",
            "29652  2022-02-09    DPZ -0.015887   \n",
            "29653  2022-02-09  LIFZF  0.086517   \n",
            "\n",
            "                                                       0 number  \\\n",
            "0      10:01:54.481 77425 [77425-thread-2] INFO  a.s....    GGG   \n",
            "1      10:01:54.481 77425 [77425-thread-2] INFO  a.s....    CWT   \n",
            "2      10:01:54.481 77425 [77425-thread-2] INFO  a.s....    BLL   \n",
            "3      10:01:54.481 77425 [77425-thread-2] INFO  a.s....    APA   \n",
            "4      10:01:54.481 77425 [77425-thread-2] INFO  a.s....   MATX   \n",
            "...                                                  ...    ...   \n",
            "29649  10:27:03.049 77425 [77425-thread-2] INFO  a.s....   SLGN   \n",
            "29650  10:27:03.049 77425 [77425-thread-2] INFO  a.s....    PEP   \n",
            "29651  10:27:03.049 77425 [77425-thread-2] INFO  a.s....    GEF   \n",
            "29652  10:27:03.049 77425 [77425-thread-2] INFO  a.s....    DPZ   \n",
            "29653  10:27:03.049 77425 [77425-thread-2] INFO  a.s....  LIFZF   \n",
            "\n",
            "                         type       mer     value  \n",
            "0      Producer Manufacturing  H5490W-R  0.952753  \n",
            "1                   Utilities  GSWXLY-R  0.934181  \n",
            "2          Process Industries  VFT0VQ-R  0.922862  \n",
            "3             Energy Minerals  DMX4QY-R  0.912117  \n",
            "4              Transportation  QVP8YX-R  0.866946  \n",
            "...                       ...       ...       ...  \n",
            "29649      Process Industries  MNWT3V-R  0.709506  \n",
            "29650   Consumer Non-Durables  PPCTFP-R  0.701507  \n",
            "29651      Process Industries  MPX0N4-R  0.697954  \n",
            "29652       Consumer Services  F05QG0-R  0.697741  \n",
            "29653     Non-Energy Minerals  Q404Y1-R  0.695644  \n",
            "\n",
            "[29654 rows x 8 columns]\n"
          ]
        },
        {
          "output_type": "display_data",
          "data": {
            "text/plain": [
              "<Figure size 432x288 with 2 Axes>"
            ],
            "image/png": "[encoded data removed]"
          },
          "metadata": {
            "needs_background": "light"
          }
        },
        {
          "output_type": "display_data",
          "data": {
            "text/plain": [
              "<Figure size 432x288 with 1 Axes>"
            ],
            "image/png": "[encoded data removed]"
          },
          "metadata": {
            "needs_background": "light"
          }
        },
        {
          "output_type": "stream",
          "name": "stdout",
          "text": [
            "Coefficients: [[-0.09460618]]\n",
            "Intercept: [0.73195119]\n"
          ]
        }
      ],
      "source": [
        "import pandas as pd\n",
        "\n",
        "df = pd.read_csv('CONVICTIONLISTTOPN_BSLD-408.csv',header=None)\n",
        "df.rename(columns={1: \"time\", 2: \"number\", 3: \"code\", 4: \"type\", 5: \"mer\", 6: \"value\"}, inplace=True)\n",
        "\n",
        "data = pd.read_csv('zwroty.csv')\n",
        "data.columns = [\"time\", \"code\", \"return2\"]\n",
        "sl_score = {}\n",
        "\n",
        "for lab, row in df.iterrows():\n",
        "    sl_score[row[\"time\"]] = {}\n",
        "    if \".\" in row[\"code\"]:\n",
        "      znak_z_x = row[\"code\"]\n",
        "      indeks_znaku = znak_z_x.index(\".\")\n",
        "      row[\"code\"] = znak_z_x[0:indeks_znaku]\n",
        "\n",
        "    sl_score[row[\"time\"]][row[\"code\"]] = row[\"value\"]\n",
        "\n",
        "df2 = pd.merge(data, df, on=['time','code'])\n",
        "\n",
        "print(df2)\n",
        "\n",
        "import matplotlib.pyplot as plt\n",
        "\n",
        "df2.head()\n",
        "\n",
        "df.describe()\n",
        "\n",
        "dataset = df2[['value','number','type','return2']]\n",
        "dataset.head(10)\n",
        "\n",
        "x = dataset[['value','return2']]\n",
        "x.hist()\n",
        "\n",
        "plt.scatter(dataset['return2'], dataset['value'],  color='blue')\n",
        "plt.xlabel(\"return2\")\n",
        "plt.ylabel(\"value\")\n",
        "plt.show()\n",
        "\n",
        "from sklearn.model_selection import train_test_split\n",
        "\n",
        "X = df2[['return2']].values\n",
        "y = df2[['value']].values\n",
        "\n",
        "train_x, test_x, train_y, test_y = train_test_split(X, y, test_size=0.3, random_state=123)\n",
        "split = int(0.8 * len(df2)) #800\n",
        "split3 = int(0.9 * len(df2)) #800\n",
        "split1 = int(0.1 * len(df2))\n",
        "split2 = int(0.5 * len(df2))\n",
        "split4 = int(0.6 * len(df2))\n",
        "\n",
        "\n",
        "test1 = df[:split1]\n",
        "test2 = df[split2:split4]\n",
        "test3 = df[:split3]\n",
        "\n",
        "train = dataset[:split] # 1-799\n",
        "test = dataset[split:]\n",
        "\n",
        "plt.scatter(train.return2, train.value,  color='green')\n",
        "plt.xlabel(\"return2\")\n",
        "plt.ylabel(\"value\")\n",
        "plt.show()\n",
        "\n",
        "from sklearn import linear_model\n",
        "\n",
        "regr = linear_model.LinearRegression()\n",
        "regr.fit (train_x, train_y)\n",
        "\n",
        "# The coefficients of the model\n",
        "print (f'Coefficients: {regr.coef_}')\n",
        "print (f'Intercept: {regr.intercept_}')\n",
        "\n",
        "output = regr.predict(test_x)"
      ]
    },
    {
      "cell_type": "code",
      "source": [
        "import numpy as np\n",
        "from sklearn.metrics import r2_score\n",
        "from sklearn.utils.validation import column_or_1d"
      ],
      "metadata": {
        "id": "pxSn3ZYw8FK4"
      },
      "execution_count": 2,
      "outputs": []
    },
    {
      "cell_type": "code",
      "source": [
        "from sklearn.metrics import accuracy_score\n",
        "\n",
        "print(\"Mean absolute error: %.2f\" % np.mean(np.absolute(output - test_y)))\n",
        "print(\"Residual sum of squares (MSE): %.2f\" % np.mean((output - test_y) ** 2))\n",
        "print(\"R2-score: %.2f\" % r2_score(test_y , output) )\n",
        "print(f\"Accuracy = {regr.score(test_y, output)}\")\n"
      ],
      "metadata": {
        "colab": {
          "base_uri": "https://localhost:8080/"
        },
        "id": "y8U_3jFv6zFi",
        "outputId": "525b4b74-deef-476b-feb2-919fded4bd0a"
      },
      "execution_count": 3,
      "outputs": [
        {
          "output_type": "stream",
          "name": "stdout",
          "text": [
            "Mean absolute error: 0.09\n",
            "Residual sum of squares (MSE): 0.01\n",
            "R2-score: 0.00\n",
            "Accuracy = -273.7438800795242\n"
          ]
        }
      ]
    },
    {
      "cell_type": "code",
      "source": [
        "from sklearn.pipeline import make_pipeline\n",
        "from sklearn.preprocessing import StandardScaler\n",
        "from sklearn.svm import SVC\n",
        "from sklearn.svm import SVR\n",
        "from sklearn.preprocessing import MinMaxScaler"
      ],
      "metadata": {
        "id": "YL3Qa3CE5DMR"
      },
      "execution_count": 4,
      "outputs": []
    },
    {
      "cell_type": "code",
      "source": [
        "from sklearn.preprocessing import StandardScaler\n",
        "regr1 = make_pipeline(StandardScaler(), SVR(C=1, epsilon=0.1,gamma=\"scale\",kernel = \"rbf\"))\n",
        "regr1.fit(train_x, train_y.ravel())"
      ],
      "metadata": {
        "colab": {
          "base_uri": "https://localhost:8080/"
        },
        "id": "hVXY60UxIjpl",
        "outputId": "5345e19f-8c7a-4dc4-9eba-e4189c1831d1"
      },
      "execution_count": 5,
      "outputs": [
        {
          "output_type": "execute_result",
          "data": {
            "text/plain": [
              "Pipeline(steps=[('standardscaler', StandardScaler()), ('svr', SVR(C=1))])"
            ]
          },
          "metadata": {},
          "execution_count": 5
        }
      ]
    },
    {
      "cell_type": "code",
      "source": [
        "y_pred = regr1.predict(test_x)\n",
        "print(y_pred)"
      ],
      "metadata": {
        "colab": {
          "base_uri": "https://localhost:8080/"
        },
        "id": "l4u_mEa8JXUL",
        "outputId": "21487802-4e0f-4f19-fbbe-8620f9f3780a"
      },
      "execution_count": 6,
      "outputs": [
        {
          "output_type": "stream",
          "name": "stdout",
          "text": [
            "[0.743096   0.73872923 0.72645768 ... 0.72959403 0.67699698 0.73792036]\n"
          ]
        }
      ]
    },
    {
      "cell_type": "code",
      "source": [
        "print(\"Mean absolute error: %.2f\" % np.mean(np.absolute(y_pred - test_y)))\n",
        "print(\"Residual sum of squares (MSE): %.2f\" % np.mean((y_pred - test_y) ** 2))\n",
        "print(\"R2-score: %.2f\" % r2_score(test_y , y_pred) )\n",
        "print(f\"Accuracy = {regr1.score(test_y,y_pred)}\")\n"
      ],
      "metadata": {
        "colab": {
          "base_uri": "https://localhost:8080/"
        },
        "id": "sQmn_kcs1wTr",
        "outputId": "e3a7ee92-7e77-4616-9994-03b8a6264fdb"
      },
      "execution_count": null,
      "outputs": [
        {
          "output_type": "stream",
          "name": "stdout",
          "text": [
            "Mean absolute error: 0.09\n",
            "Residual sum of squares (MSE): 0.01\n",
            "R2-score: 0.03\n",
            "Accuracy = -24.230060205710895\n"
          ]
        }
      ]
    },
    {
      "cell_type": "code",
      "source": [
        "import pandas as pd\n",
        "import time\n",
        "\n",
        "from xgboost import XGBClassifier\n",
        "\n",
        "from sklearn.metrics import accuracy_score\n",
        "from sklearn.model_selection import train_test_split\n",
        "from sklearn.metrics import confusion_matrix\n",
        "from sklearn.model_selection import RepeatedStratifiedKFold\n",
        "from sklearn.model_selection import cross_val_score\n",
        "from imblearn.under_sampling import RandomUnderSampler\n",
        "from imblearn.over_sampling import SMOTE\n",
        "from imblearn.pipeline import Pipeline"
      ],
      "metadata": {
        "id": "Ik2XdIdqgKfH"
      },
      "execution_count": null,
      "outputs": []
    },
    {
      "cell_type": "code",
      "source": [
        "model = XGBClassifier(use_label_encoder=False)\n",
        "start_time = time.time()\n",
        "model.fit(train_x, train_y.ravel())\n",
        "print(\"--- %s seconds ---\" % (time.time() - start_time))\n",
        "predictions = model.predict(test_x)\n",
        "score = model.score(test_x, test_y)\n",
        "print(score)\n",
        "print(confusion_matrix(test_y, predictions))"
      ],
      "metadata": {
        "id": "JyKGVJBRnZNt"
      },
      "execution_count": null,
      "outputs": []
    },
    {
      "cell_type": "code",
      "source": [
        "from sklearn.cluster import KMeans\n",
        "from sklearn.preprocessing import MinMaxScaler\n",
        "\n",
        "\n"
      ],
      "metadata": {
        "id": "M2hfJhl4nZYX"
      },
      "execution_count": 26,
      "outputs": []
    },
    {
      "cell_type": "code",
      "source": [
        "kmeans = KMeans(n_clusters = 10)\n",
        "kmeans\n",
        " "
      ],
      "metadata": {
        "colab": {
          "base_uri": "https://localhost:8080/"
        },
        "id": "Wdhj-37GvXXa",
        "outputId": "e434cced-45ef-4e24-94a9-bbf465a7bb60"
      },
      "execution_count": 28,
      "outputs": [
        {
          "output_type": "execute_result",
          "data": {
            "text/plain": [
              "KMeans(n_clusters=10)"
            ]
          },
          "metadata": {},
          "execution_count": 28
        }
      ]
    },
    {
      "cell_type": "code",
      "source": [
        "y_predict = kmeans.fit_predict(df2[['return2', 'value']])\n",
        "y_predict"
      ],
      "metadata": {
        "colab": {
          "base_uri": "https://localhost:8080/"
        },
        "id": "kT8vBkLHvzvy",
        "outputId": "15b1d09b-884b-4fe8-a962-bb0ac559f450"
      },
      "execution_count": 47,
      "outputs": [
        {
          "output_type": "execute_result",
          "data": {
            "text/plain": [
              "array([3, 3, 3, ..., 0, 0, 4], dtype=int32)"
            ]
          },
          "metadata": {},
          "execution_count": 47
        }
      ]
    },
    {
      "cell_type": "code",
      "source": [
        "df2['cluster'] = y_predict\n",
        "df2.head()"
      ],
      "metadata": {
        "colab": {
          "base_uri": "https://localhost:8080/",
          "height": 617
        },
        "id": "Y-oCbvLowNmP",
        "outputId": "580c813c-98db-4953-ef07-96cb7ddd6a53"
      },
      "execution_count": 48,
      "outputs": [
        {
          "output_type": "execute_result",
          "data": {
            "text/plain": [
              "         time  code   return2  \\\n",
              "0  2004-02-11   GGG  0.055986   \n",
              "1  2004-02-11   CWT  0.080367   \n",
              "2  2004-02-11   BLL  0.015843   \n",
              "3  2004-02-11   APA  0.052312   \n",
              "4  2004-02-11  MATX  0.077529   \n",
              "\n",
              "                                                   0 number  \\\n",
              "0  10:01:54.481 77425 [77425-thread-2] INFO  a.s....    GGG   \n",
              "1  10:01:54.481 77425 [77425-thread-2] INFO  a.s....    CWT   \n",
              "2  10:01:54.481 77425 [77425-thread-2] INFO  a.s....    BLL   \n",
              "3  10:01:54.481 77425 [77425-thread-2] INFO  a.s....    APA   \n",
              "4  10:01:54.481 77425 [77425-thread-2] INFO  a.s....   MATX   \n",
              "\n",
              "                     type       mer     value  cluster  \n",
              "0  Producer Manufacturing  H5490W-R  0.952753        3  \n",
              "1               Utilities  GSWXLY-R  0.934181        3  \n",
              "2      Process Industries  VFT0VQ-R  0.922862        3  \n",
              "3         Energy Minerals  DMX4QY-R  0.912117        3  \n",
              "4          Transportation  QVP8YX-R  0.866946        1  "
            ],
            "text/html": [
              "\n",
              "  <div id=\"df-dba924bc-1031-4181-aff2-0bf76753499e\">\n",
              "    <div class=\"colab-df-container\">\n",
              "      <div>\n",
              "<style scoped>\n",
              "    .dataframe tbody tr th:only-of-type {\n",
              "        vertical-align: middle;\n",
              "    }\n",
              "\n",
              "    .dataframe tbody tr th {\n",
              "        vertical-align: top;\n",
              "    }\n",
              "\n",
              "    .dataframe thead th {\n",
              "        text-align: right;\n",
              "    }\n",
              "</style>\n",
              "<table border=\"1\" class=\"dataframe\">\n",
              "  <thead>\n",
              "    <tr style=\"text-align: right;\">\n",
              "      <th></th>\n",
              "      <th>time</th>\n",
              "      <th>code</th>\n",
              "      <th>return2</th>\n",
              "      <th>0</th>\n",
              "      <th>number</th>\n",
              "      <th>type</th>\n",
              "      <th>mer</th>\n",
              "      <th>value</th>\n",
              "      <th>cluster</th>\n",
              "    </tr>\n",
              "  </thead>\n",
              "  <tbody>\n",
              "    <tr>\n",
              "      <th>0</th>\n",
              "      <td>2004-02-11</td>\n",
              "      <td>GGG</td>\n",
              "      <td>0.055986</td>\n",
              "      <td>10:01:54.481 77425 [77425-thread-2] INFO  a.s....</td>\n",
              "      <td>GGG</td>\n",
              "      <td>Producer Manufacturing</td>\n",
              "      <td>H5490W-R</td>\n",
              "      <td>0.952753</td>\n",
              "      <td>3</td>\n",
              "    </tr>\n",
              "    <tr>\n",
              "      <th>1</th>\n",
              "      <td>2004-02-11</td>\n",
              "      <td>CWT</td>\n",
              "      <td>0.080367</td>\n",
              "      <td>10:01:54.481 77425 [77425-thread-2] INFO  a.s....</td>\n",
              "      <td>CWT</td>\n",
              "      <td>Utilities</td>\n",
              "      <td>GSWXLY-R</td>\n",
              "      <td>0.934181</td>\n",
              "      <td>3</td>\n",
              "    </tr>\n",
              "    <tr>\n",
              "      <th>2</th>\n",
              "      <td>2004-02-11</td>\n",
              "      <td>BLL</td>\n",
              "      <td>0.015843</td>\n",
              "      <td>10:01:54.481 77425 [77425-thread-2] INFO  a.s....</td>\n",
              "      <td>BLL</td>\n",
              "      <td>Process Industries</td>\n",
              "      <td>VFT0VQ-R</td>\n",
              "      <td>0.922862</td>\n",
              "      <td>3</td>\n",
              "    </tr>\n",
              "    <tr>\n",
              "      <th>3</th>\n",
              "      <td>2004-02-11</td>\n",
              "      <td>APA</td>\n",
              "      <td>0.052312</td>\n",
              "      <td>10:01:54.481 77425 [77425-thread-2] INFO  a.s....</td>\n",
              "      <td>APA</td>\n",
              "      <td>Energy Minerals</td>\n",
              "      <td>DMX4QY-R</td>\n",
              "      <td>0.912117</td>\n",
              "      <td>3</td>\n",
              "    </tr>\n",
              "    <tr>\n",
              "      <th>4</th>\n",
              "      <td>2004-02-11</td>\n",
              "      <td>MATX</td>\n",
              "      <td>0.077529</td>\n",
              "      <td>10:01:54.481 77425 [77425-thread-2] INFO  a.s....</td>\n",
              "      <td>MATX</td>\n",
              "      <td>Transportation</td>\n",
              "      <td>QVP8YX-R</td>\n",
              "      <td>0.866946</td>\n",
              "      <td>1</td>\n",
              "    </tr>\n",
              "  </tbody>\n",
              "</table>\n",
              "</div>\n",
              "      <button class=\"colab-df-convert\" onclick=\"convertToInteractive('df-dba924bc-1031-4181-aff2-0bf76753499e')\"\n",
              "              title=\"Convert this dataframe to an interactive table.\"\n",
              "              style=\"display:none;\">\n",
              "        \n",
              "  <svg xmlns=\"http://www.w3.org/2000/svg\" height=\"24px\"viewBox=\"0 0 24 24\"\n",
              "       width=\"24px\">\n",
              "    <path d=\"M0 0h24v24H0V0z\" fill=\"none\"/>\n",
              "    <path d=\"M18.56 5.44l.94 2.06.94-2.06 2.06-.94-2.06-.94-.94-2.06-.94 2.06-2.06.94zm-11 1L8.5 8.5l.94-2.06 2.06-.94-2.06-.94L8.5 2.5l-.94 2.06-2.06.94zm10 10l.94 2.06.94-2.06 2.06-.94-2.06-.94-.94-2.06-.94 2.06-2.06.94z\"/><path d=\"M17.41 7.96l-1.37-1.37c-.4-.4-.92-.59-1.43-.59-.52 0-1.04.2-1.43.59L10.3 9.45l-7.72 7.72c-.78.78-.78 2.05 0 2.83L4 21.41c.39.39.9.59 1.41.59.51 0 1.02-.2 1.41-.59l7.78-7.78 2.81-2.81c.8-.78.8-2.07 0-2.86zM5.41 20L4 18.59l7.72-7.72 1.47 1.35L5.41 20z\"/>\n",
              "  </svg>\n",
              "      </button>\n",
              "      \n",
              "  <style>\n",
              "    .colab-df-container {\n",
              "      display:flex;\n",
              "      flex-wrap:wrap;\n",
              "      gap: 12px;\n",
              "    }\n",
              "\n",
              "    .colab-df-convert {\n",
              "      background-color: #E8F0FE;\n",
              "      border: none;\n",
              "      border-radius: 50%;\n",
              "      cursor: pointer;\n",
              "      display: none;\n",
              "      fill: #1967D2;\n",
              "      height: 32px;\n",
              "      padding: 0 0 0 0;\n",
              "      width: 32px;\n",
              "    }\n",
              "\n",
              "    .colab-df-convert:hover {\n",
              "      background-color: #E2EBFA;\n",
              "      box-shadow: 0px 1px 2px rgba(60, 64, 67, 0.3), 0px 1px 3px 1px rgba(60, 64, 67, 0.15);\n",
              "      fill: #174EA6;\n",
              "    }\n",
              "\n",
              "    [theme=dark] .colab-df-convert {\n",
              "      background-color: #3B4455;\n",
              "      fill: #D2E3FC;\n",
              "    }\n",
              "\n",
              "    [theme=dark] .colab-df-convert:hover {\n",
              "      background-color: #434B5C;\n",
              "      box-shadow: 0px 1px 3px 1px rgba(0, 0, 0, 0.15);\n",
              "      filter: drop-shadow(0px 1px 2px rgba(0, 0, 0, 0.3));\n",
              "      fill: #FFFFFF;\n",
              "    }\n",
              "  </style>\n",
              "\n",
              "      <script>\n",
              "        const buttonEl =\n",
              "          document.querySelector('#df-dba924bc-1031-4181-aff2-0bf76753499e button.colab-df-convert');\n",
              "        buttonEl.style.display =\n",
              "          google.colab.kernel.accessAllowed ? 'block' : 'none';\n",
              "\n",
              "        async function convertToInteractive(key) {\n",
              "          const element = document.querySelector('#df-dba924bc-1031-4181-aff2-0bf76753499e');\n",
              "          const dataTable =\n",
              "            await google.colab.kernel.invokeFunction('convertToInteractive',\n",
              "                                                     [key], {});\n",
              "          if (!dataTable) return;\n",
              "\n",
              "          const docLinkHtml = 'Like what you see? Visit the ' +\n",
              "            '<a target=\"_blank\" href=https://colab.research.google.com/notebooks/data_table.ipynb>data table notebook</a>'\n",
              "            + ' to learn more about interactive tables.';\n",
              "          element.innerHTML = '';\n",
              "          dataTable['output_type'] = 'display_data';\n",
              "          await google.colab.output.renderOutput(dataTable, element);\n",
              "          const docLink = document.createElement('div');\n",
              "          docLink.innerHTML = docLinkHtml;\n",
              "          element.appendChild(docLink);\n",
              "        }\n",
              "      </script>\n",
              "    </div>\n",
              "  </div>\n",
              "  "
            ]
          },
          "metadata": {},
          "execution_count": 48
        }
      ]
    },
    {
      "cell_type": "code",
      "source": [
        "a0 = df2[df2.cluster==0]\n",
        "a1 = df2[df2.cluster==1]\n",
        "a2 = df2[df2.cluster==2]\n",
        "a3 = df2[df2.cluster==3]\n",
        "a4 = df2[df2.cluster==4]\n",
        "a5 = df2[df2.cluster==5]\n",
        "a6 = df2[df2.cluster==6]\n",
        "a7 = df2[df2.cluster==7]\n",
        "a8 = df2[df2.cluster==8]\n",
        "a9 = df2[df2.cluster==9]\n",
        "a10 = df2[df2.cluster==10]\n",
        "\n",
        "plt.scatter(a0.return2,a0['value'], color='green')\n",
        "plt.scatter(a1.return2,a1['value'], color='blue')\n",
        "plt.scatter(a2.return2,a2['value'], color='red')\n",
        "plt.scatter(a3.return2,a3['value'], color='pink')\n",
        "plt.scatter(a4.return2,a4['value'], color='yellow')\n",
        "plt.scatter(a5.return2,a5['value'], color='grey')\n",
        "plt.scatter(a6.return2,a6['value'], color='black')\n",
        "plt.scatter(a7.return2,a7['value'], color='purple')\n",
        "plt.scatter(a8.return2,a8['value'], color='orange')\n",
        "plt.scatter(a9.return2,a9['value'], color='darkblue')\n",
        "plt.scatter(a10.return2,a10['value'], color='brown')\n",
        "\n",
        "plt.ylabel('value')\n",
        "plt.xlabel('return2')\n",
        "plt.legend()"
      ],
      "metadata": {
        "colab": {
          "base_uri": "https://localhost:8080/",
          "height": 314
        },
        "id": "kJv180iowZiC",
        "outputId": "3aafc03d-bae0-4254-9977-02a1509cf860"
      },
      "execution_count": 49,
      "outputs": [
        {
          "output_type": "stream",
          "name": "stderr",
          "text": [
            "No handles with labels found to put in legend.\n"
          ]
        },
        {
          "output_type": "execute_result",
          "data": {
            "text/plain": [
              "<matplotlib.legend.Legend at 0x7f733361dc10>"
            ]
          },
          "metadata": {},
          "execution_count": 49
        },
        {
          "output_type": "display_data",
          "data": {
            "text/plain": [
              "<Figure size 432x288 with 1 Axes>"
            ],
            "image/png": "[encoded data removed]"
          },
          "metadata": {
            "needs_background": "light"
          }
        }
      ]
    },
    {
      "cell_type": "code",
      "source": [
        "k_range = range(1,10)\n",
        "sse = []\n",
        "for k in k_range:\n",
        "  km = KMeans(n_clusters=k)\n",
        "  km.fit(df2[['value', 'return2']])\n",
        "  sse.append(km.inertia_)"
      ],
      "metadata": {
        "id": "WR99PtPGzEbg"
      },
      "execution_count": 38,
      "outputs": []
    },
    {
      "cell_type": "code",
      "source": [
        "sse"
      ],
      "metadata": {
        "colab": {
          "base_uri": "https://localhost:8080/"
        },
        "id": "ohS5kbVpznRn",
        "outputId": "64f98f3b-5eac-4ecb-d786-738a933e78c7"
      },
      "execution_count": 39,
      "outputs": [
        {
          "output_type": "execute_result",
          "data": {
            "text/plain": [
              "[464.8829582561988,\n",
              " 194.52407907257202,\n",
              " 120.89551263133413,\n",
              " 93.69144066272979,\n",
              " 77.9962048132536,\n",
              " 70.07796547271332,\n",
              " 62.32427920715031,\n",
              " 56.07871856639314,\n",
              " 51.55289607648528]"
            ]
          },
          "metadata": {},
          "execution_count": 39
        }
      ]
    },
    {
      "cell_type": "code",
      "source": [
        "plt.ylabel('value')\n",
        "plt.xlabel('return2')\n",
        "plt.plot(k_range, sse)"
      ],
      "metadata": {
        "colab": {
          "base_uri": "https://localhost:8080/",
          "height": 296
        },
        "id": "m0_RfVT7zq60",
        "outputId": "cff2ade9-7c3b-4f73-d0f4-d2014be0a23f"
      },
      "execution_count": 45,
      "outputs": [
        {
          "output_type": "execute_result",
          "data": {
            "text/plain": [
              "[<matplotlib.lines.Line2D at 0x7f73336ff890>]"
            ]
          },
          "metadata": {},
          "execution_count": 45
        },
        {
          "output_type": "display_data",
          "data": {
            "text/plain": [
              "<Figure size 432x288 with 1 Axes>"
            ],
            "image/png": "[encoded data removed]"
          },
          "metadata": {
            "needs_background": "light"
          }
        }
      ]
    },
    {
      "cell_type": "markdown",
      "source": [
        ""
      ],
      "metadata": {
        "id": "CHYeyocV0OqK"
      }
    },
    {
      "cell_type": "code",
      "source": [
        "a0 = df2[df2.cluster==0]\n",
        "a1 = df2[df2.cluster==1]\n",
        "a2 = df2[df2.cluster==2]\n",
        "\n",
        "plt.scatter(a0.return2,a0['value'], color='green')\n",
        "plt.scatter(a1.return2,a1['value'], color='blue')\n",
        "plt.scatter(a2.return2,a2['value'], color='red')\n",
        "\n",
        "plt.ylabel('value')\n",
        "plt.xlabel('return2')\n",
        "plt.legend()\n",
        "\n"
      ],
      "metadata": {
        "colab": {
          "base_uri": "https://localhost:8080/",
          "height": 314
        },
        "id": "T93jCZKiz9HA",
        "outputId": "87e89f5c-d347-4d8b-bc67-30286f96e8ab"
      },
      "execution_count": 46,
      "outputs": [
        {
          "output_type": "stream",
          "name": "stderr",
          "text": [
            "No handles with labels found to put in legend.\n"
          ]
        },
        {
          "output_type": "execute_result",
          "data": {
            "text/plain": [
              "<matplotlib.legend.Legend at 0x7f7333797f50>"
            ]
          },
          "metadata": {},
          "execution_count": 46
        },
        {
          "output_type": "display_data",
          "data": {
            "text/plain": [
              "<Figure size 432x288 with 1 Axes>"
            ],
            "image/png": "[encoded data removed]"
          },
          "metadata": {
            "needs_background": "light"
          }
        }
      ]
    },
    {
      "cell_type": "code",
      "source": [
        "k_range = range(1,4)\n",
        "sse1 = []\n",
        "for k in k_range:\n",
        "  km = KMeans(n_clusters=k)\n",
        "  km.fit(df2[['value', 'return2']])\n",
        "  sse1.append(km.inertia_)"
      ],
      "metadata": {
        "id": "WQm5_mY13aIu"
      },
      "execution_count": 52,
      "outputs": []
    },
    {
      "cell_type": "code",
      "source": [
        "sse1"
      ],
      "metadata": {
        "colab": {
          "base_uri": "https://localhost:8080/"
        },
        "id": "JcDAYy0_5AHv",
        "outputId": "5834ec92-4e21-495f-b110-bd7db99737a4"
      },
      "execution_count": 53,
      "outputs": [
        {
          "output_type": "execute_result",
          "data": {
            "text/plain": [
              "[464.8829582561988, 194.5186403423359, 120.89193823021691]"
            ]
          },
          "metadata": {},
          "execution_count": 53
        }
      ]
    }
  ]
}